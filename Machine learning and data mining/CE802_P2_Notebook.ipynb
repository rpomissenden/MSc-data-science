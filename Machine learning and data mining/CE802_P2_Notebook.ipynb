{
 "cells": [
  {
   "cell_type": "code",
   "execution_count": 1,
   "metadata": {},
   "outputs": [],
   "source": [
    "import os\n",
    "import numpy as np\n",
    "import matplotlib.pyplot as plt\n",
    "import pandas as pd\n",
    "from sklearn.model_selection import train_test_split, GridSearchCV\n",
    "from sklearn.preprocessing import StandardScaler\n",
    "from sklearn import svm\n",
    "from sklearn.metrics import confusion_matrix, cohen_kappa_score, accuracy_score, precision_score, recall_score\n",
    "from sklearn.tree import DecisionTreeClassifier\n",
    "from sklearn.neighbors import KNeighborsClassifier\n",
    "from sklearn.impute import SimpleImputer\n",
    "from sklearn.pipeline import Pipeline\n",
    "from sklearn.metrics import plot_confusion_matrix\n",
    "\n",
    "#Gets the current working directory\n",
    "cwd = os.getcwd()\n",
    "#Enter filepath where the dataset is stored\n",
    "path = '//Users//Ryan1//Desktop//CE802-2020-21-ML and Data Mining//Assignment//CE802_P2_Data'\n",
    "#Changes directory to the path specified\n",
    "os.chdir(path)\n",
    "\n",
    "#Imports the dataset to pandas dataframe\n",
    "dataset = pd.read_csv('CE802_P2_Data.csv')"
   ]
  },
  {
   "cell_type": "code",
   "execution_count": 2,
   "metadata": {},
   "outputs": [
    {
     "data": {
      "text/html": [
       "<div>\n",
       "<style scoped>\n",
       "    .dataframe tbody tr th:only-of-type {\n",
       "        vertical-align: middle;\n",
       "    }\n",
       "\n",
       "    .dataframe tbody tr th {\n",
       "        vertical-align: top;\n",
       "    }\n",
       "\n",
       "    .dataframe thead th {\n",
       "        text-align: right;\n",
       "    }\n",
       "</style>\n",
       "<table border=\"1\" class=\"dataframe\">\n",
       "  <thead>\n",
       "    <tr style=\"text-align: right;\">\n",
       "      <th></th>\n",
       "      <th>F1</th>\n",
       "      <th>F2</th>\n",
       "      <th>F3</th>\n",
       "      <th>F4</th>\n",
       "      <th>F5</th>\n",
       "      <th>F6</th>\n",
       "      <th>F7</th>\n",
       "      <th>F8</th>\n",
       "      <th>F9</th>\n",
       "      <th>F10</th>\n",
       "      <th>F11</th>\n",
       "      <th>F12</th>\n",
       "      <th>F13</th>\n",
       "      <th>F14</th>\n",
       "      <th>F15</th>\n",
       "      <th>Class</th>\n",
       "    </tr>\n",
       "  </thead>\n",
       "  <tbody>\n",
       "    <tr>\n",
       "      <th>0</th>\n",
       "      <td>4.92</td>\n",
       "      <td>-13.23</td>\n",
       "      <td>330</td>\n",
       "      <td>13.22</td>\n",
       "      <td>-5.51</td>\n",
       "      <td>41.10</td>\n",
       "      <td>16.72</td>\n",
       "      <td>-56.98</td>\n",
       "      <td>-748.72</td>\n",
       "      <td>20</td>\n",
       "      <td>9.75</td>\n",
       "      <td>259.66</td>\n",
       "      <td>8.00</td>\n",
       "      <td>-0.35</td>\n",
       "      <td>4.76</td>\n",
       "      <td>False</td>\n",
       "    </tr>\n",
       "    <tr>\n",
       "      <th>1</th>\n",
       "      <td>-9.33</td>\n",
       "      <td>-27.72</td>\n",
       "      <td>3</td>\n",
       "      <td>12.78</td>\n",
       "      <td>-9.12</td>\n",
       "      <td>5.31</td>\n",
       "      <td>9.90</td>\n",
       "      <td>-30.98</td>\n",
       "      <td>-436.72</td>\n",
       "      <td>2</td>\n",
       "      <td>-1.56</td>\n",
       "      <td>131.66</td>\n",
       "      <td>0.76</td>\n",
       "      <td>1.79</td>\n",
       "      <td>NaN</td>\n",
       "      <td>False</td>\n",
       "    </tr>\n",
       "    <tr>\n",
       "      <th>2</th>\n",
       "      <td>-15.09</td>\n",
       "      <td>-26.28</td>\n",
       "      <td>6</td>\n",
       "      <td>13.54</td>\n",
       "      <td>-7.75</td>\n",
       "      <td>5.67</td>\n",
       "      <td>9.93</td>\n",
       "      <td>-34.98</td>\n",
       "      <td>-482.72</td>\n",
       "      <td>2</td>\n",
       "      <td>-2.58</td>\n",
       "      <td>63.66</td>\n",
       "      <td>0.64</td>\n",
       "      <td>2.02</td>\n",
       "      <td>NaN</td>\n",
       "      <td>True</td>\n",
       "    </tr>\n",
       "    <tr>\n",
       "      <th>3</th>\n",
       "      <td>-18.09</td>\n",
       "      <td>-24.60</td>\n",
       "      <td>30</td>\n",
       "      <td>13.28</td>\n",
       "      <td>-8.61</td>\n",
       "      <td>3.51</td>\n",
       "      <td>10.02</td>\n",
       "      <td>-30.98</td>\n",
       "      <td>-414.72</td>\n",
       "      <td>2</td>\n",
       "      <td>-7.08</td>\n",
       "      <td>133.66</td>\n",
       "      <td>0.57</td>\n",
       "      <td>1.98</td>\n",
       "      <td>NaN</td>\n",
       "      <td>True</td>\n",
       "    </tr>\n",
       "    <tr>\n",
       "      <th>4</th>\n",
       "      <td>6.12</td>\n",
       "      <td>-8.64</td>\n",
       "      <td>300</td>\n",
       "      <td>14.94</td>\n",
       "      <td>-1.97</td>\n",
       "      <td>29.40</td>\n",
       "      <td>19.32</td>\n",
       "      <td>-36.98</td>\n",
       "      <td>-428.72</td>\n",
       "      <td>20</td>\n",
       "      <td>9.09</td>\n",
       "      <td>229.66</td>\n",
       "      <td>6.70</td>\n",
       "      <td>-3.83</td>\n",
       "      <td>NaN</td>\n",
       "      <td>True</td>\n",
       "    </tr>\n",
       "    <tr>\n",
       "      <th>5</th>\n",
       "      <td>6.72</td>\n",
       "      <td>-12.90</td>\n",
       "      <td>325</td>\n",
       "      <td>11.54</td>\n",
       "      <td>-3.94</td>\n",
       "      <td>16.50</td>\n",
       "      <td>14.82</td>\n",
       "      <td>-76.98</td>\n",
       "      <td>-408.72</td>\n",
       "      <td>20</td>\n",
       "      <td>14.55</td>\n",
       "      <td>39.66</td>\n",
       "      <td>9.25</td>\n",
       "      <td>-3.27</td>\n",
       "      <td>7.02</td>\n",
       "      <td>True</td>\n",
       "    </tr>\n",
       "    <tr>\n",
       "      <th>6</th>\n",
       "      <td>-8.61</td>\n",
       "      <td>-23.79</td>\n",
       "      <td>44</td>\n",
       "      <td>12.48</td>\n",
       "      <td>-7.29</td>\n",
       "      <td>0.96</td>\n",
       "      <td>10.24</td>\n",
       "      <td>-34.98</td>\n",
       "      <td>-468.72</td>\n",
       "      <td>2</td>\n",
       "      <td>-0.36</td>\n",
       "      <td>95.66</td>\n",
       "      <td>0.56</td>\n",
       "      <td>1.98</td>\n",
       "      <td>6.53</td>\n",
       "      <td>True</td>\n",
       "    </tr>\n",
       "    <tr>\n",
       "      <th>7</th>\n",
       "      <td>5.85</td>\n",
       "      <td>-9.39</td>\n",
       "      <td>390</td>\n",
       "      <td>13.68</td>\n",
       "      <td>-2.43</td>\n",
       "      <td>34.35</td>\n",
       "      <td>18.27</td>\n",
       "      <td>-36.98</td>\n",
       "      <td>-588.72</td>\n",
       "      <td>20</td>\n",
       "      <td>13.56</td>\n",
       "      <td>109.66</td>\n",
       "      <td>5.50</td>\n",
       "      <td>-3.84</td>\n",
       "      <td>NaN</td>\n",
       "      <td>False</td>\n",
       "    </tr>\n",
       "    <tr>\n",
       "      <th>8</th>\n",
       "      <td>-13.80</td>\n",
       "      <td>-27.00</td>\n",
       "      <td>25</td>\n",
       "      <td>11.72</td>\n",
       "      <td>-9.73</td>\n",
       "      <td>5.58</td>\n",
       "      <td>9.47</td>\n",
       "      <td>-34.98</td>\n",
       "      <td>-450.72</td>\n",
       "      <td>2</td>\n",
       "      <td>-0.27</td>\n",
       "      <td>83.66</td>\n",
       "      <td>0.56</td>\n",
       "      <td>4.96</td>\n",
       "      <td>NaN</td>\n",
       "      <td>False</td>\n",
       "    </tr>\n",
       "    <tr>\n",
       "      <th>9</th>\n",
       "      <td>4.02</td>\n",
       "      <td>-11.46</td>\n",
       "      <td>95</td>\n",
       "      <td>10.38</td>\n",
       "      <td>-6.33</td>\n",
       "      <td>30.60</td>\n",
       "      <td>17.22</td>\n",
       "      <td>-56.98</td>\n",
       "      <td>-758.72</td>\n",
       "      <td>20</td>\n",
       "      <td>12.36</td>\n",
       "      <td>139.66</td>\n",
       "      <td>5.70</td>\n",
       "      <td>-2.87</td>\n",
       "      <td>NaN</td>\n",
       "      <td>True</td>\n",
       "    </tr>\n",
       "  </tbody>\n",
       "</table>\n",
       "</div>"
      ],
      "text/plain": [
       "      F1     F2   F3     F4    F5     F6     F7     F8      F9  F10    F11  \\\n",
       "0   4.92 -13.23  330  13.22 -5.51  41.10  16.72 -56.98 -748.72   20   9.75   \n",
       "1  -9.33 -27.72    3  12.78 -9.12   5.31   9.90 -30.98 -436.72    2  -1.56   \n",
       "2 -15.09 -26.28    6  13.54 -7.75   5.67   9.93 -34.98 -482.72    2  -2.58   \n",
       "3 -18.09 -24.60   30  13.28 -8.61   3.51  10.02 -30.98 -414.72    2  -7.08   \n",
       "4   6.12  -8.64  300  14.94 -1.97  29.40  19.32 -36.98 -428.72   20   9.09   \n",
       "5   6.72 -12.90  325  11.54 -3.94  16.50  14.82 -76.98 -408.72   20  14.55   \n",
       "6  -8.61 -23.79   44  12.48 -7.29   0.96  10.24 -34.98 -468.72    2  -0.36   \n",
       "7   5.85  -9.39  390  13.68 -2.43  34.35  18.27 -36.98 -588.72   20  13.56   \n",
       "8 -13.80 -27.00   25  11.72 -9.73   5.58   9.47 -34.98 -450.72    2  -0.27   \n",
       "9   4.02 -11.46   95  10.38 -6.33  30.60  17.22 -56.98 -758.72   20  12.36   \n",
       "\n",
       "      F12   F13   F14   F15  Class  \n",
       "0  259.66  8.00 -0.35  4.76  False  \n",
       "1  131.66  0.76  1.79   NaN  False  \n",
       "2   63.66  0.64  2.02   NaN   True  \n",
       "3  133.66  0.57  1.98   NaN   True  \n",
       "4  229.66  6.70 -3.83   NaN   True  \n",
       "5   39.66  9.25 -3.27  7.02   True  \n",
       "6   95.66  0.56  1.98  6.53   True  \n",
       "7  109.66  5.50 -3.84   NaN  False  \n",
       "8   83.66  0.56  4.96   NaN  False  \n",
       "9  139.66  5.70 -2.87   NaN   True  "
      ]
     },
     "execution_count": 2,
     "metadata": {},
     "output_type": "execute_result"
    }
   ],
   "source": [
    "#Initial look at the dataset\n",
    "dataset.head(10)"
   ]
  },
  {
   "cell_type": "code",
   "execution_count": 3,
   "metadata": {},
   "outputs": [
    {
     "data": {
      "text/html": [
       "<div>\n",
       "<style scoped>\n",
       "    .dataframe tbody tr th:only-of-type {\n",
       "        vertical-align: middle;\n",
       "    }\n",
       "\n",
       "    .dataframe tbody tr th {\n",
       "        vertical-align: top;\n",
       "    }\n",
       "\n",
       "    .dataframe thead th {\n",
       "        text-align: right;\n",
       "    }\n",
       "</style>\n",
       "<table border=\"1\" class=\"dataframe\">\n",
       "  <thead>\n",
       "    <tr style=\"text-align: right;\">\n",
       "      <th></th>\n",
       "      <th>F1</th>\n",
       "      <th>F2</th>\n",
       "      <th>F3</th>\n",
       "      <th>F4</th>\n",
       "      <th>F5</th>\n",
       "      <th>F6</th>\n",
       "      <th>F7</th>\n",
       "      <th>F8</th>\n",
       "      <th>F9</th>\n",
       "      <th>F10</th>\n",
       "      <th>F11</th>\n",
       "      <th>F12</th>\n",
       "      <th>F13</th>\n",
       "      <th>F14</th>\n",
       "      <th>F15</th>\n",
       "    </tr>\n",
       "  </thead>\n",
       "  <tbody>\n",
       "    <tr>\n",
       "      <th>count</th>\n",
       "      <td>1500.000000</td>\n",
       "      <td>1500.000000</td>\n",
       "      <td>1500.000000</td>\n",
       "      <td>1500.000000</td>\n",
       "      <td>1500.000000</td>\n",
       "      <td>1500.00000</td>\n",
       "      <td>1500.000000</td>\n",
       "      <td>1500.00000</td>\n",
       "      <td>1500.000000</td>\n",
       "      <td>1500.000000</td>\n",
       "      <td>1500.000000</td>\n",
       "      <td>1500.000000</td>\n",
       "      <td>1500.000000</td>\n",
       "      <td>1500.000000</td>\n",
       "      <td>750.000000</td>\n",
       "    </tr>\n",
       "    <tr>\n",
       "      <th>mean</th>\n",
       "      <td>-4.569780</td>\n",
       "      <td>-20.474600</td>\n",
       "      <td>109.024667</td>\n",
       "      <td>12.744707</td>\n",
       "      <td>-6.248787</td>\n",
       "      <td>14.90628</td>\n",
       "      <td>13.107813</td>\n",
       "      <td>-42.25600</td>\n",
       "      <td>-557.610667</td>\n",
       "      <td>10.806667</td>\n",
       "      <td>3.878840</td>\n",
       "      <td>108.488000</td>\n",
       "      <td>3.854280</td>\n",
       "      <td>0.147533</td>\n",
       "      <td>5.783013</td>\n",
       "    </tr>\n",
       "    <tr>\n",
       "      <th>std</th>\n",
       "      <td>7.662813</td>\n",
       "      <td>7.635517</td>\n",
       "      <td>117.334580</td>\n",
       "      <td>2.217929</td>\n",
       "      <td>2.540644</td>\n",
       "      <td>12.97563</td>\n",
       "      <td>3.166909</td>\n",
       "      <td>14.31863</td>\n",
       "      <td>142.833748</td>\n",
       "      <td>9.009814</td>\n",
       "      <td>7.541549</td>\n",
       "      <td>80.376896</td>\n",
       "      <td>3.465276</td>\n",
       "      <td>2.491236</td>\n",
       "      <td>1.005117</td>\n",
       "    </tr>\n",
       "    <tr>\n",
       "      <th>min</th>\n",
       "      <td>-29.760000</td>\n",
       "      <td>-45.570000</td>\n",
       "      <td>0.000000</td>\n",
       "      <td>8.020000</td>\n",
       "      <td>-15.280000</td>\n",
       "      <td>0.00000</td>\n",
       "      <td>9.420000</td>\n",
       "      <td>-76.98000</td>\n",
       "      <td>-888.720000</td>\n",
       "      <td>0.000000</td>\n",
       "      <td>-19.110000</td>\n",
       "      <td>-120.340000</td>\n",
       "      <td>0.000000</td>\n",
       "      <td>-4.360000</td>\n",
       "      <td>3.060000</td>\n",
       "    </tr>\n",
       "    <tr>\n",
       "      <th>25%</th>\n",
       "      <td>-10.260000</td>\n",
       "      <td>-26.130000</td>\n",
       "      <td>15.000000</td>\n",
       "      <td>11.440000</td>\n",
       "      <td>-8.130000</td>\n",
       "      <td>3.72000</td>\n",
       "      <td>10.140000</td>\n",
       "      <td>-56.98000</td>\n",
       "      <td>-678.720000</td>\n",
       "      <td>2.000000</td>\n",
       "      <td>-1.950000</td>\n",
       "      <td>71.660000</td>\n",
       "      <td>0.600000</td>\n",
       "      <td>-2.230000</td>\n",
       "      <td>5.062500</td>\n",
       "    </tr>\n",
       "    <tr>\n",
       "      <th>50%</th>\n",
       "      <td>-7.560000</td>\n",
       "      <td>-23.445000</td>\n",
       "      <td>50.000000</td>\n",
       "      <td>12.440000</td>\n",
       "      <td>-7.230000</td>\n",
       "      <td>6.21000</td>\n",
       "      <td>10.500000</td>\n",
       "      <td>-34.98000</td>\n",
       "      <td>-486.720000</td>\n",
       "      <td>2.000000</td>\n",
       "      <td>0.930000</td>\n",
       "      <td>97.660000</td>\n",
       "      <td>1.020000</td>\n",
       "      <td>1.100000</td>\n",
       "      <td>5.790000</td>\n",
       "    </tr>\n",
       "    <tr>\n",
       "      <th>75%</th>\n",
       "      <td>2.917500</td>\n",
       "      <td>-13.110000</td>\n",
       "      <td>195.000000</td>\n",
       "      <td>13.900000</td>\n",
       "      <td>-3.770000</td>\n",
       "      <td>24.60000</td>\n",
       "      <td>15.870000</td>\n",
       "      <td>-30.98000</td>\n",
       "      <td>-446.720000</td>\n",
       "      <td>20.000000</td>\n",
       "      <td>11.100000</td>\n",
       "      <td>139.660000</td>\n",
       "      <td>7.050000</td>\n",
       "      <td>1.982500</td>\n",
       "      <td>6.530000</td>\n",
       "    </tr>\n",
       "    <tr>\n",
       "      <th>max</th>\n",
       "      <td>8.850000</td>\n",
       "      <td>-6.780000</td>\n",
       "      <td>390.000000</td>\n",
       "      <td>21.220000</td>\n",
       "      <td>-1.590000</td>\n",
       "      <td>47.10000</td>\n",
       "      <td>19.570000</td>\n",
       "      <td>-24.98000</td>\n",
       "      <td>-398.720000</td>\n",
       "      <td>20.000000</td>\n",
       "      <td>17.310000</td>\n",
       "      <td>309.660000</td>\n",
       "      <td>10.350000</td>\n",
       "      <td>7.880000</td>\n",
       "      <td>8.140000</td>\n",
       "    </tr>\n",
       "  </tbody>\n",
       "</table>\n",
       "</div>"
      ],
      "text/plain": [
       "                F1           F2           F3           F4           F5  \\\n",
       "count  1500.000000  1500.000000  1500.000000  1500.000000  1500.000000   \n",
       "mean     -4.569780   -20.474600   109.024667    12.744707    -6.248787   \n",
       "std       7.662813     7.635517   117.334580     2.217929     2.540644   \n",
       "min     -29.760000   -45.570000     0.000000     8.020000   -15.280000   \n",
       "25%     -10.260000   -26.130000    15.000000    11.440000    -8.130000   \n",
       "50%      -7.560000   -23.445000    50.000000    12.440000    -7.230000   \n",
       "75%       2.917500   -13.110000   195.000000    13.900000    -3.770000   \n",
       "max       8.850000    -6.780000   390.000000    21.220000    -1.590000   \n",
       "\n",
       "               F6           F7          F8           F9          F10  \\\n",
       "count  1500.00000  1500.000000  1500.00000  1500.000000  1500.000000   \n",
       "mean     14.90628    13.107813   -42.25600  -557.610667    10.806667   \n",
       "std      12.97563     3.166909    14.31863   142.833748     9.009814   \n",
       "min       0.00000     9.420000   -76.98000  -888.720000     0.000000   \n",
       "25%       3.72000    10.140000   -56.98000  -678.720000     2.000000   \n",
       "50%       6.21000    10.500000   -34.98000  -486.720000     2.000000   \n",
       "75%      24.60000    15.870000   -30.98000  -446.720000    20.000000   \n",
       "max      47.10000    19.570000   -24.98000  -398.720000    20.000000   \n",
       "\n",
       "               F11          F12          F13          F14         F15  \n",
       "count  1500.000000  1500.000000  1500.000000  1500.000000  750.000000  \n",
       "mean      3.878840   108.488000     3.854280     0.147533    5.783013  \n",
       "std       7.541549    80.376896     3.465276     2.491236    1.005117  \n",
       "min     -19.110000  -120.340000     0.000000    -4.360000    3.060000  \n",
       "25%      -1.950000    71.660000     0.600000    -2.230000    5.062500  \n",
       "50%       0.930000    97.660000     1.020000     1.100000    5.790000  \n",
       "75%      11.100000   139.660000     7.050000     1.982500    6.530000  \n",
       "max      17.310000   309.660000    10.350000     7.880000    8.140000  "
      ]
     },
     "execution_count": 3,
     "metadata": {},
     "output_type": "execute_result"
    }
   ],
   "source": [
    "#Initial look at the distribution of the dataset\n",
    "dataset.describe()"
   ]
  },
  {
   "cell_type": "code",
   "execution_count": 4,
   "metadata": {},
   "outputs": [
    {
     "data": {
      "text/plain": [
       "F1         0\n",
       "F2         0\n",
       "F3         0\n",
       "F4         0\n",
       "F5         0\n",
       "F6         0\n",
       "F7         0\n",
       "F8         0\n",
       "F9         0\n",
       "F10        0\n",
       "F11        0\n",
       "F12        0\n",
       "F13        0\n",
       "F14        0\n",
       "F15      750\n",
       "Class      0\n",
       "dtype: int64"
      ]
     },
     "execution_count": 4,
     "metadata": {},
     "output_type": "execute_result"
    }
   ],
   "source": [
    "#Identify how many null values are in the dataset\n",
    "dataset.isna().sum()"
   ]
  },
  {
   "cell_type": "code",
   "execution_count": 5,
   "metadata": {},
   "outputs": [],
   "source": [
    "#Isolates the features\n",
    "X = dataset.iloc[:, 0:15]\n",
    "#Isolates the labels/ground truth\n",
    "Y = dataset.iloc[:, [15]]\n",
    "\n",
    "#Splits the dataset into training (80%) and test sets (20%)\n",
    "X_train, X_test, Y_train, Y_test = train_test_split(X, Y, test_size = 0.2, random_state = 0)\n",
    "\n",
    "#Creates a list of imputers to iterate through the models\n",
    "imp = ['mean', 'median', 'most_frequent','constant']"
   ]
  },
  {
   "cell_type": "code",
   "execution_count": 6,
   "metadata": {},
   "outputs": [],
   "source": [
    "#Function that takes an imputer value from the list e.g. mean, median etc and runs it through a gridsearch pipeline\n",
    "#using a decision tree as the model\n",
    "def Decision_tree_pipeline(imputer1):\n",
    "    #Replaces the missing values with the imputed values\n",
    "    imputer = SimpleImputer(missing_values=np.nan, strategy=imputer1)\n",
    "    model = DecisionTreeClassifier()\n",
    "    #Creates pipeline that takes the specified imputer and model\n",
    "    pipeline = Pipeline(steps=[('i', imputer), ('m', model)])\n",
    "    #List of parameters to be used by Gridsearch\n",
    "    parameters = {\n",
    "    'm__splitter': ('best','random'),\n",
    "    'm__criterion' :['gini', 'entropy'],\n",
    "    'm__max_depth': [2, 10, 20, None]\n",
    "    }\n",
    "    cv = GridSearchCV(pipeline, parameters, cv=10)\n",
    "    cv1 = cv.fit(X_train, Y_train.values.ravel())\n",
    "    print('Classifier: Decision Tree  \\nImputation: ', imputer1)\n",
    "    #Calls function that prints the results from each fold of the Gridsearch and the best parameters\n",
    "    gridsearch_results(cv1)\n",
    "    #Applies the optimal parameters from Gridsearch on to the test set\n",
    "    y_pred = cv1.predict(X_test)\n",
    "    #Calls the evaluation function that produces accuracy/precision/recall/Kappa scores and confusion matrices\n",
    "    evaluation(cv1, y_pred)"
   ]
  },
  {
   "cell_type": "code",
   "execution_count": 7,
   "metadata": {},
   "outputs": [],
   "source": [
    "#Function that takes an imputer value from the list e.g. mean, median etc and runs it through a gridsearch pipeline\n",
    "#using a SVM as the model\n",
    "def SVM_pipeline(imputer1):\n",
    "    #Replaces the missing values with the imputed values\n",
    "    imputer = SimpleImputer(missing_values=np.nan, strategy=imputer1)\n",
    "    #Creates pipeline that takes the specified imputer, scaler and model\n",
    "    scaler = StandardScaler()\n",
    "    model = svm.SVC()\n",
    "    #Creates pipeline that takes the specified imputer, scaler and model\n",
    "    pipeline = Pipeline(steps=[('i', imputer), ('s', scaler), ('m', model)])\n",
    "    #List of parameters to be used by Gridsearch\n",
    "    parameters = {\n",
    "    'm__kernel': ('linear','poly', 'rbf', 'sigmoid'),\n",
    "    'm__C': [1, 10, 100],\n",
    "    'm__gamma': ('auto','scale')\n",
    "    }\n",
    "    cv = GridSearchCV(pipeline, parameters, cv=10)\n",
    "    cv1 = cv.fit(X_train, Y_train.values.ravel())\n",
    "    print('Classifier: SVM  \\nImputation: ', imputer1)\n",
    "    #Calls function that prints the results from each fold of the Gridsearch and the best parameters\n",
    "    gridsearch_results(cv1)\n",
    "    #Applies the optimal parameters from Gridsearch on to the test set\n",
    "    y_pred = cv1.predict(X_test)\n",
    "    #Calls the evaluation function that produces accuracy/precision/recall/Kappa scores and confusion matrices\n",
    "    evaluation(cv1, y_pred)"
   ]
  },
  {
   "cell_type": "code",
   "execution_count": 8,
   "metadata": {},
   "outputs": [],
   "source": [
    "#Function that takes an imputer value from the list e.g. mean, median etc and runs it through a gridsearch pipeline\n",
    "#using a KNN as the model\n",
    "def KNN_pipeline(imputer1):\n",
    "    #Replaces the missing values with the imputed values\n",
    "    imputer = SimpleImputer(missing_values=np.nan, strategy=imputer1)\n",
    "    scaler = StandardScaler()\n",
    "    model = KNeighborsClassifier()\n",
    "    #Creates pipeline that takes the specified imputer, scaler and model\n",
    "    pipeline = Pipeline(steps=[('i', imputer), ('s', scaler), ('m', model)])\n",
    "    #List of parameters to be used by Gridsearch\n",
    "    parameters = {\n",
    "    'm__n_neighbors':[5,50,100],\n",
    "    'm__weights':('uniform','distance'),\n",
    "    'm__metric':('minkowski', 'euclidean', 'manhattan', 'chebyshev')\n",
    "    }\n",
    "    cv = GridSearchCV(pipeline, parameters, cv=10)\n",
    "    cv1 = cv.fit(X_train, Y_train.values.ravel())\n",
    "    print('Classifier: K-Nearest Neighbour  \\nImputation Method: ', imputer1)\n",
    "    #Calls function that prints the results from each fold of the Gridsearch and the best parameters\n",
    "    gridsearch_results(cv1)\n",
    "    #Applies the optimal parameters from Gridsearch on to the test set\n",
    "    y_pred = cv1.predict(X_test)\n",
    "    #Calls the evaluation function that produces accuracy/precision/recall/Kappa scores and confusion matrices\n",
    "    evaluation(cv1, y_pred)"
   ]
  },
  {
   "cell_type": "code",
   "execution_count": 9,
   "metadata": {},
   "outputs": [],
   "source": [
    "#Function that takes the result of each fold of the gridsearch and provides the mean, standard deviation\n",
    "#and the parameters that were selected. Also prints the best parameters and their scores\n",
    "def gridsearch_results(results):\n",
    "    mean_score = results.cv_results_['mean_test_score']\n",
    "    std_score = results.cv_results_['std_test_score']\n",
    "    for mean_scores, st_dev_score, parameters in zip(mean_score, std_score, results.cv_results_['params']):\n",
    "        print('{} (+/-{}) for {}'.format(round(mean_scores, 3), round(st_dev_score * 2, 3), parameters))\n",
    "    print('\\033[1m'+'\\nBest Parameters: {}\\n'.format(results.best_params_)+'\\033[0m')"
   ]
  },
  {
   "cell_type": "code",
   "execution_count": 10,
   "metadata": {},
   "outputs": [],
   "source": [
    "#Function that takes the pipeline and predictions each model function and produces all selected evaluation metrics\n",
    "def evaluation(cv1, y_pred):\n",
    "    #Provides accuracy scores from comparing the test labels and predictions\n",
    "    accuracy = round(accuracy_score(Y_test, y_pred), 3)\n",
    "    #Provides precision scores from comparing the test labels and predictions\n",
    "    precision = round(precision_score(Y_test, y_pred), 3)\n",
    "    #Provides recall scores from comparing the test labels and predictions\n",
    "    recall = round(recall_score(Y_test, y_pred), 3)\n",
    "    #Creates confusion matrix from the test labels and predictions\n",
    "    conf_matrix = confusion_matrix(Y_test, y_pred)  \n",
    "    print('\\nFinal Parameters:{} \\nAccuracy: {} / Precision: {} / Recall: {}'.format(cv1.best_params_,accuracy,precision,recall))\n",
    "    print('Confusion Matrix\\n',conf_matrix)\n",
    "    #Produces the confusion matrix in graphical form\n",
    "    plot_confusion_matrix(cv1, X_test, Y_test)  \n",
    "    plt.show() \n",
    "    print('Kappa score',round(cohen_kappa_score(Y_test, y_pred),3))"
   ]
  },
  {
   "cell_type": "code",
   "execution_count": 11,
   "metadata": {
    "scrolled": true
   },
   "outputs": [
    {
     "name": "stdout",
     "output_type": "stream",
     "text": [
      "Classifier: Decision Tree  \n",
      "Imputation:  mean\n",
      "0.682 (+/-0.058) for {'m__criterion': 'gini', 'm__max_depth': 2, 'm__splitter': 'best'}\n",
      "0.653 (+/-0.108) for {'m__criterion': 'gini', 'm__max_depth': 2, 'm__splitter': 'random'}\n",
      "0.772 (+/-0.056) for {'m__criterion': 'gini', 'm__max_depth': 10, 'm__splitter': 'best'}\n",
      "0.776 (+/-0.085) for {'m__criterion': 'gini', 'm__max_depth': 10, 'm__splitter': 'random'}\n",
      "0.785 (+/-0.067) for {'m__criterion': 'gini', 'm__max_depth': 20, 'm__splitter': 'best'}\n",
      "0.758 (+/-0.09) for {'m__criterion': 'gini', 'm__max_depth': 20, 'm__splitter': 'random'}\n",
      "0.788 (+/-0.096) for {'m__criterion': 'gini', 'm__max_depth': None, 'm__splitter': 'best'}\n",
      "0.778 (+/-0.077) for {'m__criterion': 'gini', 'm__max_depth': None, 'm__splitter': 'random'}\n",
      "0.657 (+/-0.069) for {'m__criterion': 'entropy', 'm__max_depth': 2, 'm__splitter': 'best'}\n",
      "0.643 (+/-0.052) for {'m__criterion': 'entropy', 'm__max_depth': 2, 'm__splitter': 'random'}\n",
      "0.782 (+/-0.042) for {'m__criterion': 'entropy', 'm__max_depth': 10, 'm__splitter': 'best'}\n",
      "0.783 (+/-0.112) for {'m__criterion': 'entropy', 'm__max_depth': 10, 'm__splitter': 'random'}\n",
      "0.782 (+/-0.051) for {'m__criterion': 'entropy', 'm__max_depth': 20, 'm__splitter': 'best'}\n",
      "0.762 (+/-0.07) for {'m__criterion': 'entropy', 'm__max_depth': 20, 'm__splitter': 'random'}\n",
      "0.782 (+/-0.049) for {'m__criterion': 'entropy', 'm__max_depth': None, 'm__splitter': 'best'}\n",
      "0.77 (+/-0.069) for {'m__criterion': 'entropy', 'm__max_depth': None, 'm__splitter': 'random'}\n",
      "\u001b[1m\n",
      "Best Parameters: {'m__criterion': 'gini', 'm__max_depth': None, 'm__splitter': 'best'}\n",
      "\u001b[0m\n",
      "\n",
      "Final Parameters:{'m__criterion': 'gini', 'm__max_depth': None, 'm__splitter': 'best'} \n",
      "Accuracy: 0.75 / Precision: 0.712 / Recall: 0.779\n",
      "Confusion Matrix\n",
      " [[116  44]\n",
      " [ 31 109]]\n"
     ]
    },
    {
     "data": {
      "image/png": "[encoded data removed]",
      "text/plain": [
       "<Figure size 432x288 with 2 Axes>"
      ]
     },
     "metadata": {
      "needs_background": "light"
     },
     "output_type": "display_data"
    },
    {
     "name": "stdout",
     "output_type": "stream",
     "text": [
      "Kappa score 0.501\n"
     ]
    }
   ],
   "source": [
    "dt_mean = Decision_tree_pipeline(imp[0])"
   ]
  },
  {
   "cell_type": "code",
   "execution_count": 12,
   "metadata": {},
   "outputs": [
    {
     "name": "stdout",
     "output_type": "stream",
     "text": [
      "Classifier: Decision Tree  \n",
      "Imputation:  median\n",
      "0.682 (+/-0.058) for {'m__criterion': 'gini', 'm__max_depth': 2, 'm__splitter': 'best'}\n",
      "0.668 (+/-0.083) for {'m__criterion': 'gini', 'm__max_depth': 2, 'm__splitter': 'random'}\n",
      "0.777 (+/-0.036) for {'m__criterion': 'gini', 'm__max_depth': 10, 'm__splitter': 'best'}\n",
      "0.746 (+/-0.074) for {'m__criterion': 'gini', 'm__max_depth': 10, 'm__splitter': 'random'}\n",
      "0.783 (+/-0.082) for {'m__criterion': 'gini', 'm__max_depth': 20, 'm__splitter': 'best'}\n",
      "0.777 (+/-0.095) for {'m__criterion': 'gini', 'm__max_depth': 20, 'm__splitter': 'random'}\n",
      "0.785 (+/-0.087) for {'m__criterion': 'gini', 'm__max_depth': None, 'm__splitter': 'best'}\n",
      "0.781 (+/-0.086) for {'m__criterion': 'gini', 'm__max_depth': None, 'm__splitter': 'random'}\n",
      "0.657 (+/-0.069) for {'m__criterion': 'entropy', 'm__max_depth': 2, 'm__splitter': 'best'}\n",
      "0.643 (+/-0.088) for {'m__criterion': 'entropy', 'm__max_depth': 2, 'm__splitter': 'random'}\n",
      "0.782 (+/-0.027) for {'m__criterion': 'entropy', 'm__max_depth': 10, 'm__splitter': 'best'}\n",
      "0.742 (+/-0.081) for {'m__criterion': 'entropy', 'm__max_depth': 10, 'm__splitter': 'random'}\n",
      "0.785 (+/-0.051) for {'m__criterion': 'entropy', 'm__max_depth': 20, 'm__splitter': 'best'}\n",
      "0.759 (+/-0.059) for {'m__criterion': 'entropy', 'm__max_depth': 20, 'm__splitter': 'random'}\n",
      "0.784 (+/-0.044) for {'m__criterion': 'entropy', 'm__max_depth': None, 'm__splitter': 'best'}\n",
      "0.775 (+/-0.066) for {'m__criterion': 'entropy', 'm__max_depth': None, 'm__splitter': 'random'}\n",
      "\u001b[1m\n",
      "Best Parameters: {'m__criterion': 'entropy', 'm__max_depth': 20, 'm__splitter': 'best'}\n",
      "\u001b[0m\n",
      "\n",
      "Final Parameters:{'m__criterion': 'entropy', 'm__max_depth': 20, 'm__splitter': 'best'} \n",
      "Accuracy: 0.773 / Precision: 0.74 / Recall: 0.793\n",
      "Confusion Matrix\n",
      " [[121  39]\n",
      " [ 29 111]]\n"
     ]
    },
    {
     "data": {
      "image/png": "[encoded data removed]",
      "text/plain": [
       "<Figure size 432x288 with 2 Axes>"
      ]
     },
     "metadata": {
      "needs_background": "light"
     },
     "output_type": "display_data"
    },
    {
     "name": "stdout",
     "output_type": "stream",
     "text": [
      "Kappa score 0.547\n"
     ]
    }
   ],
   "source": [
    "dt_median = Decision_tree_pipeline(imp[1])"
   ]
  },
  {
   "cell_type": "code",
   "execution_count": 13,
   "metadata": {},
   "outputs": [
    {
     "name": "stdout",
     "output_type": "stream",
     "text": [
      "Classifier: Decision Tree  \n",
      "Imputation:  most_frequent\n",
      "0.694 (+/-0.061) for {'m__criterion': 'gini', 'm__max_depth': 2, 'm__splitter': 'best'}\n",
      "0.654 (+/-0.08) for {'m__criterion': 'gini', 'm__max_depth': 2, 'm__splitter': 'random'}\n",
      "0.783 (+/-0.06) for {'m__criterion': 'gini', 'm__max_depth': 10, 'm__splitter': 'best'}\n",
      "0.754 (+/-0.062) for {'m__criterion': 'gini', 'm__max_depth': 10, 'm__splitter': 'random'}\n",
      "0.774 (+/-0.077) for {'m__criterion': 'gini', 'm__max_depth': 20, 'm__splitter': 'best'}\n",
      "0.78 (+/-0.048) for {'m__criterion': 'gini', 'm__max_depth': 20, 'm__splitter': 'random'}\n",
      "0.775 (+/-0.078) for {'m__criterion': 'gini', 'm__max_depth': None, 'm__splitter': 'best'}\n",
      "0.776 (+/-0.08) for {'m__criterion': 'gini', 'm__max_depth': None, 'm__splitter': 'random'}\n",
      "0.676 (+/-0.076) for {'m__criterion': 'entropy', 'm__max_depth': 2, 'm__splitter': 'best'}\n",
      "0.639 (+/-0.082) for {'m__criterion': 'entropy', 'm__max_depth': 2, 'm__splitter': 'random'}\n",
      "0.791 (+/-0.055) for {'m__criterion': 'entropy', 'm__max_depth': 10, 'm__splitter': 'best'}\n",
      "0.765 (+/-0.064) for {'m__criterion': 'entropy', 'm__max_depth': 10, 'm__splitter': 'random'}\n",
      "0.791 (+/-0.053) for {'m__criterion': 'entropy', 'm__max_depth': 20, 'm__splitter': 'best'}\n",
      "0.771 (+/-0.058) for {'m__criterion': 'entropy', 'm__max_depth': 20, 'm__splitter': 'random'}\n",
      "0.788 (+/-0.059) for {'m__criterion': 'entropy', 'm__max_depth': None, 'm__splitter': 'best'}\n",
      "0.76 (+/-0.091) for {'m__criterion': 'entropy', 'm__max_depth': None, 'm__splitter': 'random'}\n",
      "\u001b[1m\n",
      "Best Parameters: {'m__criterion': 'entropy', 'm__max_depth': 10, 'm__splitter': 'best'}\n",
      "\u001b[0m\n",
      "\n",
      "Final Parameters:{'m__criterion': 'entropy', 'm__max_depth': 10, 'm__splitter': 'best'} \n",
      "Accuracy: 0.767 / Precision: 0.75 / Recall: 0.75\n",
      "Confusion Matrix\n",
      " [[125  35]\n",
      " [ 35 105]]\n"
     ]
    },
    {
     "data": {
      "image/png": "[encoded data removed]",
      "text/plain": [
       "<Figure size 432x288 with 2 Axes>"
      ]
     },
     "metadata": {
      "needs_background": "light"
     },
     "output_type": "display_data"
    },
    {
     "name": "stdout",
     "output_type": "stream",
     "text": [
      "Kappa score 0.531\n"
     ]
    }
   ],
   "source": [
    "dt_mode = Decision_tree_pipeline(imp[2])"
   ]
  },
  {
   "cell_type": "code",
   "execution_count": 14,
   "metadata": {},
   "outputs": [
    {
     "name": "stdout",
     "output_type": "stream",
     "text": [
      "Classifier: Decision Tree  \n",
      "Imputation:  constant\n",
      "0.694 (+/-0.061) for {'m__criterion': 'gini', 'm__max_depth': 2, 'm__splitter': 'best'}\n",
      "0.658 (+/-0.131) for {'m__criterion': 'gini', 'm__max_depth': 2, 'm__splitter': 'random'}\n",
      "0.782 (+/-0.06) for {'m__criterion': 'gini', 'm__max_depth': 10, 'm__splitter': 'best'}\n",
      "0.755 (+/-0.07) for {'m__criterion': 'gini', 'm__max_depth': 10, 'm__splitter': 'random'}\n",
      "0.782 (+/-0.061) for {'m__criterion': 'gini', 'm__max_depth': 20, 'm__splitter': 'best'}\n",
      "0.753 (+/-0.054) for {'m__criterion': 'gini', 'm__max_depth': 20, 'm__splitter': 'random'}\n",
      "0.765 (+/-0.032) for {'m__criterion': 'gini', 'm__max_depth': None, 'm__splitter': 'best'}\n",
      "0.753 (+/-0.095) for {'m__criterion': 'gini', 'm__max_depth': None, 'm__splitter': 'random'}\n",
      "0.693 (+/-0.075) for {'m__criterion': 'entropy', 'm__max_depth': 2, 'm__splitter': 'best'}\n",
      "0.635 (+/-0.08) for {'m__criterion': 'entropy', 'm__max_depth': 2, 'm__splitter': 'random'}\n",
      "0.776 (+/-0.057) for {'m__criterion': 'entropy', 'm__max_depth': 10, 'm__splitter': 'best'}\n",
      "0.751 (+/-0.046) for {'m__criterion': 'entropy', 'm__max_depth': 10, 'm__splitter': 'random'}\n",
      "0.783 (+/-0.048) for {'m__criterion': 'entropy', 'm__max_depth': 20, 'm__splitter': 'best'}\n",
      "0.737 (+/-0.07) for {'m__criterion': 'entropy', 'm__max_depth': 20, 'm__splitter': 'random'}\n",
      "0.779 (+/-0.053) for {'m__criterion': 'entropy', 'm__max_depth': None, 'm__splitter': 'best'}\n",
      "0.747 (+/-0.078) for {'m__criterion': 'entropy', 'm__max_depth': None, 'm__splitter': 'random'}\n",
      "\u001b[1m\n",
      "Best Parameters: {'m__criterion': 'entropy', 'm__max_depth': 20, 'm__splitter': 'best'}\n",
      "\u001b[0m\n",
      "\n",
      "Final Parameters:{'m__criterion': 'entropy', 'm__max_depth': 20, 'm__splitter': 'best'} \n",
      "Accuracy: 0.76 / Precision: 0.739 / Recall: 0.75\n",
      "Confusion Matrix\n",
      " [[123  37]\n",
      " [ 35 105]]\n"
     ]
    },
    {
     "data": {
      "image/png": "[encoded data removed]",
      "text/plain": [
       "<Figure size 432x288 with 2 Axes>"
      ]
     },
     "metadata": {
      "needs_background": "light"
     },
     "output_type": "display_data"
    },
    {
     "name": "stdout",
     "output_type": "stream",
     "text": [
      "Kappa score 0.518\n"
     ]
    }
   ],
   "source": [
    "dt_zero = Decision_tree_pipeline(imp[3])"
   ]
  },
  {
   "cell_type": "code",
   "execution_count": 15,
   "metadata": {},
   "outputs": [
    {
     "name": "stdout",
     "output_type": "stream",
     "text": [
      "Classifier: SVM  \n",
      "Imputation:  mean\n",
      "0.857 (+/-0.049) for {'m__C': 1, 'm__gamma': 'auto', 'm__kernel': 'linear'}\n",
      "0.823 (+/-0.049) for {'m__C': 1, 'm__gamma': 'auto', 'm__kernel': 'poly'}\n",
      "0.806 (+/-0.053) for {'m__C': 1, 'm__gamma': 'auto', 'm__kernel': 'rbf'}\n",
      "0.624 (+/-0.077) for {'m__C': 1, 'm__gamma': 'auto', 'm__kernel': 'sigmoid'}\n",
      "0.857 (+/-0.049) for {'m__C': 1, 'm__gamma': 'scale', 'm__kernel': 'linear'}\n",
      "0.823 (+/-0.049) for {'m__C': 1, 'm__gamma': 'scale', 'm__kernel': 'poly'}\n",
      "0.806 (+/-0.053) for {'m__C': 1, 'm__gamma': 'scale', 'm__kernel': 'rbf'}\n",
      "0.624 (+/-0.077) for {'m__C': 1, 'm__gamma': 'scale', 'm__kernel': 'sigmoid'}\n",
      "0.877 (+/-0.052) for {'m__C': 10, 'm__gamma': 'auto', 'm__kernel': 'linear'}\n",
      "0.876 (+/-0.054) for {'m__C': 10, 'm__gamma': 'auto', 'm__kernel': 'poly'}\n",
      "0.875 (+/-0.054) for {'m__C': 10, 'm__gamma': 'auto', 'm__kernel': 'rbf'}\n",
      "0.591 (+/-0.084) for {'m__C': 10, 'm__gamma': 'auto', 'm__kernel': 'sigmoid'}\n",
      "0.877 (+/-0.052) for {'m__C': 10, 'm__gamma': 'scale', 'm__kernel': 'linear'}\n",
      "0.876 (+/-0.054) for {'m__C': 10, 'm__gamma': 'scale', 'm__kernel': 'poly'}\n",
      "0.875 (+/-0.054) for {'m__C': 10, 'm__gamma': 'scale', 'm__kernel': 'rbf'}\n",
      "0.591 (+/-0.084) for {'m__C': 10, 'm__gamma': 'scale', 'm__kernel': 'sigmoid'}\n",
      "0.883 (+/-0.058) for {'m__C': 100, 'm__gamma': 'auto', 'm__kernel': 'linear'}\n",
      "0.887 (+/-0.056) for {'m__C': 100, 'm__gamma': 'auto', 'm__kernel': 'poly'}\n",
      "0.893 (+/-0.078) for {'m__C': 100, 'm__gamma': 'auto', 'm__kernel': 'rbf'}\n",
      "0.59 (+/-0.075) for {'m__C': 100, 'm__gamma': 'auto', 'm__kernel': 'sigmoid'}\n",
      "0.883 (+/-0.058) for {'m__C': 100, 'm__gamma': 'scale', 'm__kernel': 'linear'}\n",
      "0.887 (+/-0.056) for {'m__C': 100, 'm__gamma': 'scale', 'm__kernel': 'poly'}\n",
      "0.893 (+/-0.078) for {'m__C': 100, 'm__gamma': 'scale', 'm__kernel': 'rbf'}\n",
      "0.59 (+/-0.075) for {'m__C': 100, 'm__gamma': 'scale', 'm__kernel': 'sigmoid'}\n",
      "\u001b[1m\n",
      "Best Parameters: {'m__C': 100, 'm__gamma': 'auto', 'm__kernel': 'rbf'}\n",
      "\u001b[0m\n",
      "\n",
      "Final Parameters:{'m__C': 100, 'm__gamma': 'auto', 'm__kernel': 'rbf'} \n",
      "Accuracy: 0.873 / Precision: 0.854 / Recall: 0.879\n",
      "Confusion Matrix\n",
      " [[139  21]\n",
      " [ 17 123]]\n"
     ]
    },
    {
     "data": {
      "image/png": "[encoded data removed]",
      "text/plain": [
       "<Figure size 432x288 with 2 Axes>"
      ]
     },
     "metadata": {
      "needs_background": "light"
     },
     "output_type": "display_data"
    },
    {
     "name": "stdout",
     "output_type": "stream",
     "text": [
      "Kappa score 0.746\n"
     ]
    }
   ],
   "source": [
    "SVM_mean = SVM_pipeline(imp[0])"
   ]
  },
  {
   "cell_type": "code",
   "execution_count": 16,
   "metadata": {},
   "outputs": [
    {
     "name": "stdout",
     "output_type": "stream",
     "text": [
      "Classifier: SVM  \n",
      "Imputation:  median\n",
      "0.86 (+/-0.049) for {'m__C': 1, 'm__gamma': 'auto', 'm__kernel': 'linear'}\n",
      "0.823 (+/-0.058) for {'m__C': 1, 'm__gamma': 'auto', 'm__kernel': 'poly'}\n",
      "0.809 (+/-0.058) for {'m__C': 1, 'm__gamma': 'auto', 'm__kernel': 'rbf'}\n",
      "0.624 (+/-0.084) for {'m__C': 1, 'm__gamma': 'auto', 'm__kernel': 'sigmoid'}\n",
      "0.86 (+/-0.049) for {'m__C': 1, 'm__gamma': 'scale', 'm__kernel': 'linear'}\n",
      "0.823 (+/-0.058) for {'m__C': 1, 'm__gamma': 'scale', 'm__kernel': 'poly'}\n",
      "0.809 (+/-0.058) for {'m__C': 1, 'm__gamma': 'scale', 'm__kernel': 'rbf'}\n",
      "0.624 (+/-0.084) for {'m__C': 1, 'm__gamma': 'scale', 'm__kernel': 'sigmoid'}\n",
      "0.877 (+/-0.047) for {'m__C': 10, 'm__gamma': 'auto', 'm__kernel': 'linear'}\n",
      "0.876 (+/-0.054) for {'m__C': 10, 'm__gamma': 'auto', 'm__kernel': 'poly'}\n",
      "0.877 (+/-0.05) for {'m__C': 10, 'm__gamma': 'auto', 'm__kernel': 'rbf'}\n",
      "0.591 (+/-0.085) for {'m__C': 10, 'm__gamma': 'auto', 'm__kernel': 'sigmoid'}\n",
      "0.877 (+/-0.047) for {'m__C': 10, 'm__gamma': 'scale', 'm__kernel': 'linear'}\n",
      "0.876 (+/-0.054) for {'m__C': 10, 'm__gamma': 'scale', 'm__kernel': 'poly'}\n",
      "0.877 (+/-0.05) for {'m__C': 10, 'm__gamma': 'scale', 'm__kernel': 'rbf'}\n",
      "0.591 (+/-0.085) for {'m__C': 10, 'm__gamma': 'scale', 'm__kernel': 'sigmoid'}\n",
      "0.884 (+/-0.053) for {'m__C': 100, 'm__gamma': 'auto', 'm__kernel': 'linear'}\n",
      "0.886 (+/-0.055) for {'m__C': 100, 'm__gamma': 'auto', 'm__kernel': 'poly'}\n",
      "0.894 (+/-0.079) for {'m__C': 100, 'm__gamma': 'auto', 'm__kernel': 'rbf'}\n",
      "0.591 (+/-0.091) for {'m__C': 100, 'm__gamma': 'auto', 'm__kernel': 'sigmoid'}\n",
      "0.884 (+/-0.053) for {'m__C': 100, 'm__gamma': 'scale', 'm__kernel': 'linear'}\n",
      "0.886 (+/-0.055) for {'m__C': 100, 'm__gamma': 'scale', 'm__kernel': 'poly'}\n",
      "0.894 (+/-0.079) for {'m__C': 100, 'm__gamma': 'scale', 'm__kernel': 'rbf'}\n",
      "0.591 (+/-0.091) for {'m__C': 100, 'm__gamma': 'scale', 'm__kernel': 'sigmoid'}\n",
      "\u001b[1m\n",
      "Best Parameters: {'m__C': 100, 'm__gamma': 'auto', 'm__kernel': 'rbf'}\n",
      "\u001b[0m\n",
      "\n",
      "Final Parameters:{'m__C': 100, 'm__gamma': 'auto', 'm__kernel': 'rbf'} \n",
      "Accuracy: 0.873 / Precision: 0.854 / Recall: 0.879\n",
      "Confusion Matrix\n",
      " [[139  21]\n",
      " [ 17 123]]\n"
     ]
    },
    {
     "data": {
      "image/png": "[encoded data removed]",
      "text/plain": [
       "<Figure size 432x288 with 2 Axes>"
      ]
     },
     "metadata": {
      "needs_background": "light"
     },
     "output_type": "display_data"
    },
    {
     "name": "stdout",
     "output_type": "stream",
     "text": [
      "Kappa score 0.746\n"
     ]
    }
   ],
   "source": [
    "SVM_median = SVM_pipeline(imp[1])"
   ]
  },
  {
   "cell_type": "code",
   "execution_count": 17,
   "metadata": {
    "scrolled": true
   },
   "outputs": [
    {
     "name": "stdout",
     "output_type": "stream",
     "text": [
      "Classifier: SVM  \n",
      "Imputation:  most_frequent\n",
      "0.829 (+/-0.074) for {'m__C': 1, 'm__gamma': 'auto', 'm__kernel': 'linear'}\n",
      "0.77 (+/-0.06) for {'m__C': 1, 'm__gamma': 'auto', 'm__kernel': 'poly'}\n",
      "0.793 (+/-0.069) for {'m__C': 1, 'm__gamma': 'auto', 'm__kernel': 'rbf'}\n",
      "0.581 (+/-0.071) for {'m__C': 1, 'm__gamma': 'auto', 'm__kernel': 'sigmoid'}\n",
      "0.829 (+/-0.074) for {'m__C': 1, 'm__gamma': 'scale', 'm__kernel': 'linear'}\n",
      "0.77 (+/-0.06) for {'m__C': 1, 'm__gamma': 'scale', 'm__kernel': 'poly'}\n",
      "0.793 (+/-0.069) for {'m__C': 1, 'm__gamma': 'scale', 'm__kernel': 'rbf'}\n",
      "0.581 (+/-0.071) for {'m__C': 1, 'm__gamma': 'scale', 'm__kernel': 'sigmoid'}\n",
      "0.867 (+/-0.063) for {'m__C': 10, 'm__gamma': 'auto', 'm__kernel': 'linear'}\n",
      "0.871 (+/-0.047) for {'m__C': 10, 'm__gamma': 'auto', 'm__kernel': 'poly'}\n",
      "0.868 (+/-0.035) for {'m__C': 10, 'm__gamma': 'auto', 'm__kernel': 'rbf'}\n",
      "0.554 (+/-0.078) for {'m__C': 10, 'm__gamma': 'auto', 'm__kernel': 'sigmoid'}\n",
      "0.867 (+/-0.063) for {'m__C': 10, 'm__gamma': 'scale', 'm__kernel': 'linear'}\n",
      "0.871 (+/-0.047) for {'m__C': 10, 'm__gamma': 'scale', 'm__kernel': 'poly'}\n",
      "0.868 (+/-0.035) for {'m__C': 10, 'm__gamma': 'scale', 'm__kernel': 'rbf'}\n",
      "0.554 (+/-0.078) for {'m__C': 10, 'm__gamma': 'scale', 'm__kernel': 'sigmoid'}\n",
      "0.874 (+/-0.066) for {'m__C': 100, 'm__gamma': 'auto', 'm__kernel': 'linear'}\n",
      "0.886 (+/-0.077) for {'m__C': 100, 'm__gamma': 'auto', 'm__kernel': 'poly'}\n",
      "0.888 (+/-0.057) for {'m__C': 100, 'm__gamma': 'auto', 'm__kernel': 'rbf'}\n",
      "0.552 (+/-0.074) for {'m__C': 100, 'm__gamma': 'auto', 'm__kernel': 'sigmoid'}\n",
      "0.874 (+/-0.066) for {'m__C': 100, 'm__gamma': 'scale', 'm__kernel': 'linear'}\n",
      "0.886 (+/-0.077) for {'m__C': 100, 'm__gamma': 'scale', 'm__kernel': 'poly'}\n",
      "0.888 (+/-0.057) for {'m__C': 100, 'm__gamma': 'scale', 'm__kernel': 'rbf'}\n",
      "0.552 (+/-0.074) for {'m__C': 100, 'm__gamma': 'scale', 'm__kernel': 'sigmoid'}\n",
      "\u001b[1m\n",
      "Best Parameters: {'m__C': 100, 'm__gamma': 'auto', 'm__kernel': 'rbf'}\n",
      "\u001b[0m\n",
      "\n",
      "Final Parameters:{'m__C': 100, 'm__gamma': 'auto', 'm__kernel': 'rbf'} \n",
      "Accuracy: 0.877 / Precision: 0.865 / Recall: 0.871\n",
      "Confusion Matrix\n",
      " [[141  19]\n",
      " [ 18 122]]\n"
     ]
    },
    {
     "data": {
      "image/png": "[encoded data removed]",
      "text/plain": [
       "<Figure size 432x288 with 2 Axes>"
      ]
     },
     "metadata": {
      "needs_background": "light"
     },
     "output_type": "display_data"
    },
    {
     "name": "stdout",
     "output_type": "stream",
     "text": [
      "Kappa score 0.752\n"
     ]
    }
   ],
   "source": [
    "SVM_mode = SVM_pipeline(imp[2])"
   ]
  },
  {
   "cell_type": "code",
   "execution_count": 18,
   "metadata": {},
   "outputs": [
    {
     "name": "stdout",
     "output_type": "stream",
     "text": [
      "Classifier: SVM  \n",
      "Imputation:  constant\n",
      "0.804 (+/-0.08) for {'m__C': 1, 'm__gamma': 'auto', 'm__kernel': 'linear'}\n",
      "0.762 (+/-0.06) for {'m__C': 1, 'm__gamma': 'auto', 'm__kernel': 'poly'}\n",
      "0.77 (+/-0.079) for {'m__C': 1, 'm__gamma': 'auto', 'm__kernel': 'rbf'}\n",
      "0.513 (+/-0.08) for {'m__C': 1, 'm__gamma': 'auto', 'm__kernel': 'sigmoid'}\n",
      "0.804 (+/-0.08) for {'m__C': 1, 'm__gamma': 'scale', 'm__kernel': 'linear'}\n",
      "0.762 (+/-0.06) for {'m__C': 1, 'm__gamma': 'scale', 'm__kernel': 'poly'}\n",
      "0.77 (+/-0.079) for {'m__C': 1, 'm__gamma': 'scale', 'm__kernel': 'rbf'}\n",
      "0.513 (+/-0.08) for {'m__C': 1, 'm__gamma': 'scale', 'm__kernel': 'sigmoid'}\n",
      "0.857 (+/-0.057) for {'m__C': 10, 'm__gamma': 'auto', 'm__kernel': 'linear'}\n",
      "0.862 (+/-0.052) for {'m__C': 10, 'm__gamma': 'auto', 'm__kernel': 'poly'}\n",
      "0.877 (+/-0.063) for {'m__C': 10, 'm__gamma': 'auto', 'm__kernel': 'rbf'}\n",
      "0.487 (+/-0.063) for {'m__C': 10, 'm__gamma': 'auto', 'm__kernel': 'sigmoid'}\n",
      "0.857 (+/-0.057) for {'m__C': 10, 'm__gamma': 'scale', 'm__kernel': 'linear'}\n",
      "0.862 (+/-0.052) for {'m__C': 10, 'm__gamma': 'scale', 'm__kernel': 'poly'}\n",
      "0.877 (+/-0.063) for {'m__C': 10, 'm__gamma': 'scale', 'm__kernel': 'rbf'}\n",
      "0.487 (+/-0.063) for {'m__C': 10, 'm__gamma': 'scale', 'm__kernel': 'sigmoid'}\n",
      "0.857 (+/-0.053) for {'m__C': 100, 'm__gamma': 'auto', 'm__kernel': 'linear'}\n",
      "0.883 (+/-0.071) for {'m__C': 100, 'm__gamma': 'auto', 'm__kernel': 'poly'}\n",
      "0.894 (+/-0.079) for {'m__C': 100, 'm__gamma': 'auto', 'm__kernel': 'rbf'}\n",
      "0.485 (+/-0.069) for {'m__C': 100, 'm__gamma': 'auto', 'm__kernel': 'sigmoid'}\n",
      "0.857 (+/-0.053) for {'m__C': 100, 'm__gamma': 'scale', 'm__kernel': 'linear'}\n",
      "0.883 (+/-0.071) for {'m__C': 100, 'm__gamma': 'scale', 'm__kernel': 'poly'}\n",
      "0.894 (+/-0.079) for {'m__C': 100, 'm__gamma': 'scale', 'm__kernel': 'rbf'}\n",
      "0.485 (+/-0.069) for {'m__C': 100, 'm__gamma': 'scale', 'm__kernel': 'sigmoid'}\n",
      "\u001b[1m\n",
      "Best Parameters: {'m__C': 100, 'm__gamma': 'auto', 'm__kernel': 'rbf'}\n",
      "\u001b[0m\n",
      "\n",
      "Final Parameters:{'m__C': 100, 'm__gamma': 'auto', 'm__kernel': 'rbf'} \n",
      "Accuracy: 0.863 / Precision: 0.851 / Recall: 0.857\n",
      "Confusion Matrix\n",
      " [[139  21]\n",
      " [ 20 120]]\n"
     ]
    },
    {
     "data": {
      "image/png": "[encoded data removed]",
      "text/plain": [
       "<Figure size 432x288 with 2 Axes>"
      ]
     },
     "metadata": {
      "needs_background": "light"
     },
     "output_type": "display_data"
    },
    {
     "name": "stdout",
     "output_type": "stream",
     "text": [
      "Kappa score 0.726\n"
     ]
    }
   ],
   "source": [
    "SVM_zero = SVM_pipeline(imp[3])"
   ]
  },
  {
   "cell_type": "code",
   "execution_count": 19,
   "metadata": {},
   "outputs": [
    {
     "name": "stdout",
     "output_type": "stream",
     "text": [
      "Classifier: K-Nearest Neighbour  \n",
      "Imputation Method:  mean\n",
      "0.766 (+/-0.077) for {'m__metric': 'minkowski', 'm__n_neighbors': 5, 'm__weights': 'uniform'}\n",
      "0.769 (+/-0.071) for {'m__metric': 'minkowski', 'm__n_neighbors': 5, 'm__weights': 'distance'}\n",
      "0.765 (+/-0.06) for {'m__metric': 'minkowski', 'm__n_neighbors': 50, 'm__weights': 'uniform'}\n",
      "0.773 (+/-0.054) for {'m__metric': 'minkowski', 'm__n_neighbors': 50, 'm__weights': 'distance'}\n",
      "0.745 (+/-0.058) for {'m__metric': 'minkowski', 'm__n_neighbors': 100, 'm__weights': 'uniform'}\n",
      "0.762 (+/-0.059) for {'m__metric': 'minkowski', 'm__n_neighbors': 100, 'm__weights': 'distance'}\n",
      "0.766 (+/-0.077) for {'m__metric': 'euclidean', 'm__n_neighbors': 5, 'm__weights': 'uniform'}\n",
      "0.769 (+/-0.071) for {'m__metric': 'euclidean', 'm__n_neighbors': 5, 'm__weights': 'distance'}\n",
      "0.765 (+/-0.06) for {'m__metric': 'euclidean', 'm__n_neighbors': 50, 'm__weights': 'uniform'}\n",
      "0.773 (+/-0.054) for {'m__metric': 'euclidean', 'm__n_neighbors': 50, 'm__weights': 'distance'}\n",
      "0.745 (+/-0.058) for {'m__metric': 'euclidean', 'm__n_neighbors': 100, 'm__weights': 'uniform'}\n",
      "0.762 (+/-0.059) for {'m__metric': 'euclidean', 'm__n_neighbors': 100, 'm__weights': 'distance'}\n",
      "0.787 (+/-0.051) for {'m__metric': 'manhattan', 'm__n_neighbors': 5, 'm__weights': 'uniform'}\n",
      "0.788 (+/-0.051) for {'m__metric': 'manhattan', 'm__n_neighbors': 5, 'm__weights': 'distance'}\n",
      "0.796 (+/-0.052) for {'m__metric': 'manhattan', 'm__n_neighbors': 50, 'm__weights': 'uniform'}\n",
      "0.804 (+/-0.048) for {'m__metric': 'manhattan', 'm__n_neighbors': 50, 'm__weights': 'distance'}\n",
      "0.806 (+/-0.057) for {'m__metric': 'manhattan', 'm__n_neighbors': 100, 'm__weights': 'uniform'}\n",
      "0.812 (+/-0.068) for {'m__metric': 'manhattan', 'm__n_neighbors': 100, 'm__weights': 'distance'}\n",
      "0.711 (+/-0.075) for {'m__metric': 'chebyshev', 'm__n_neighbors': 5, 'm__weights': 'uniform'}\n",
      "0.714 (+/-0.079) for {'m__metric': 'chebyshev', 'm__n_neighbors': 5, 'm__weights': 'distance'}\n",
      "0.696 (+/-0.07) for {'m__metric': 'chebyshev', 'm__n_neighbors': 50, 'm__weights': 'uniform'}\n",
      "0.712 (+/-0.062) for {'m__metric': 'chebyshev', 'm__n_neighbors': 50, 'm__weights': 'distance'}\n",
      "0.682 (+/-0.06) for {'m__metric': 'chebyshev', 'm__n_neighbors': 100, 'm__weights': 'uniform'}\n",
      "0.701 (+/-0.051) for {'m__metric': 'chebyshev', 'm__n_neighbors': 100, 'm__weights': 'distance'}\n",
      "\u001b[1m\n",
      "Best Parameters: {'m__metric': 'manhattan', 'm__n_neighbors': 100, 'm__weights': 'distance'}\n",
      "\u001b[0m\n",
      "\n",
      "Final Parameters:{'m__metric': 'manhattan', 'm__n_neighbors': 100, 'm__weights': 'distance'} \n",
      "Accuracy: 0.77 / Precision: 0.763 / Recall: 0.736\n",
      "Confusion Matrix\n",
      " [[128  32]\n",
      " [ 37 103]]\n"
     ]
    },
    {
     "data": {
      "image/png": "[encoded data removed]",
      "text/plain": [
       "<Figure size 432x288 with 2 Axes>"
      ]
     },
     "metadata": {
      "needs_background": "light"
     },
     "output_type": "display_data"
    },
    {
     "name": "stdout",
     "output_type": "stream",
     "text": [
      "Kappa score 0.537\n"
     ]
    }
   ],
   "source": [
    "KNN_mean = KNN_pipeline(imp[0])"
   ]
  },
  {
   "cell_type": "code",
   "execution_count": 20,
   "metadata": {},
   "outputs": [
    {
     "name": "stdout",
     "output_type": "stream",
     "text": [
      "Classifier: K-Nearest Neighbour  \n",
      "Imputation Method:  median\n",
      "0.767 (+/-0.067) for {'m__metric': 'minkowski', 'm__n_neighbors': 5, 'm__weights': 'uniform'}\n",
      "0.77 (+/-0.061) for {'m__metric': 'minkowski', 'm__n_neighbors': 5, 'm__weights': 'distance'}\n",
      "0.762 (+/-0.052) for {'m__metric': 'minkowski', 'm__n_neighbors': 50, 'm__weights': 'uniform'}\n",
      "0.776 (+/-0.047) for {'m__metric': 'minkowski', 'm__n_neighbors': 50, 'm__weights': 'distance'}\n",
      "0.746 (+/-0.054) for {'m__metric': 'minkowski', 'm__n_neighbors': 100, 'm__weights': 'uniform'}\n",
      "0.764 (+/-0.064) for {'m__metric': 'minkowski', 'm__n_neighbors': 100, 'm__weights': 'distance'}\n",
      "0.767 (+/-0.067) for {'m__metric': 'euclidean', 'm__n_neighbors': 5, 'm__weights': 'uniform'}\n",
      "0.77 (+/-0.061) for {'m__metric': 'euclidean', 'm__n_neighbors': 5, 'm__weights': 'distance'}\n",
      "0.762 (+/-0.052) for {'m__metric': 'euclidean', 'm__n_neighbors': 50, 'm__weights': 'uniform'}\n",
      "0.776 (+/-0.047) for {'m__metric': 'euclidean', 'm__n_neighbors': 50, 'm__weights': 'distance'}\n",
      "0.746 (+/-0.054) for {'m__metric': 'euclidean', 'm__n_neighbors': 100, 'm__weights': 'uniform'}\n",
      "0.764 (+/-0.064) for {'m__metric': 'euclidean', 'm__n_neighbors': 100, 'm__weights': 'distance'}\n",
      "0.785 (+/-0.058) for {'m__metric': 'manhattan', 'm__n_neighbors': 5, 'm__weights': 'uniform'}\n",
      "0.787 (+/-0.057) for {'m__metric': 'manhattan', 'm__n_neighbors': 5, 'm__weights': 'distance'}\n",
      "0.801 (+/-0.053) for {'m__metric': 'manhattan', 'm__n_neighbors': 50, 'm__weights': 'uniform'}\n",
      "0.807 (+/-0.049) for {'m__metric': 'manhattan', 'm__n_neighbors': 50, 'm__weights': 'distance'}\n",
      "0.809 (+/-0.049) for {'m__metric': 'manhattan', 'm__n_neighbors': 100, 'm__weights': 'uniform'}\n",
      "0.815 (+/-0.051) for {'m__metric': 'manhattan', 'm__n_neighbors': 100, 'm__weights': 'distance'}\n",
      "0.714 (+/-0.078) for {'m__metric': 'chebyshev', 'm__n_neighbors': 5, 'm__weights': 'uniform'}\n",
      "0.718 (+/-0.083) for {'m__metric': 'chebyshev', 'm__n_neighbors': 5, 'm__weights': 'distance'}\n",
      "0.697 (+/-0.075) for {'m__metric': 'chebyshev', 'm__n_neighbors': 50, 'm__weights': 'uniform'}\n",
      "0.716 (+/-0.082) for {'m__metric': 'chebyshev', 'm__n_neighbors': 50, 'm__weights': 'distance'}\n",
      "0.683 (+/-0.067) for {'m__metric': 'chebyshev', 'm__n_neighbors': 100, 'm__weights': 'uniform'}\n",
      "0.702 (+/-0.058) for {'m__metric': 'chebyshev', 'm__n_neighbors': 100, 'm__weights': 'distance'}\n",
      "\u001b[1m\n",
      "Best Parameters: {'m__metric': 'manhattan', 'm__n_neighbors': 100, 'm__weights': 'distance'}\n",
      "\u001b[0m\n",
      "\n",
      "Final Parameters:{'m__metric': 'manhattan', 'm__n_neighbors': 100, 'm__weights': 'distance'} \n",
      "Accuracy: 0.777 / Precision: 0.774 / Recall: 0.736\n",
      "Confusion Matrix\n",
      " [[130  30]\n",
      " [ 37 103]]\n"
     ]
    },
    {
     "data": {
      "image/png": "[encoded data removed]",
      "text/plain": [
       "<Figure size 432x288 with 2 Axes>"
      ]
     },
     "metadata": {
      "needs_background": "light"
     },
     "output_type": "display_data"
    },
    {
     "name": "stdout",
     "output_type": "stream",
     "text": [
      "Kappa score 0.55\n"
     ]
    }
   ],
   "source": [
    "KNN_median = KNN_pipeline(imp[1])"
   ]
  },
  {
   "cell_type": "code",
   "execution_count": 21,
   "metadata": {},
   "outputs": [
    {
     "name": "stdout",
     "output_type": "stream",
     "text": [
      "Classifier: K-Nearest Neighbour  \n",
      "Imputation Method:  most_frequent\n",
      "0.754 (+/-0.041) for {'m__metric': 'minkowski', 'm__n_neighbors': 5, 'm__weights': 'uniform'}\n",
      "0.755 (+/-0.04) for {'m__metric': 'minkowski', 'm__n_neighbors': 5, 'm__weights': 'distance'}\n",
      "0.736 (+/-0.061) for {'m__metric': 'minkowski', 'm__n_neighbors': 50, 'm__weights': 'uniform'}\n",
      "0.743 (+/-0.058) for {'m__metric': 'minkowski', 'm__n_neighbors': 50, 'm__weights': 'distance'}\n",
      "0.728 (+/-0.042) for {'m__metric': 'minkowski', 'm__n_neighbors': 100, 'm__weights': 'uniform'}\n",
      "0.735 (+/-0.06) for {'m__metric': 'minkowski', 'm__n_neighbors': 100, 'm__weights': 'distance'}\n",
      "0.754 (+/-0.041) for {'m__metric': 'euclidean', 'm__n_neighbors': 5, 'm__weights': 'uniform'}\n",
      "0.755 (+/-0.04) for {'m__metric': 'euclidean', 'm__n_neighbors': 5, 'm__weights': 'distance'}\n",
      "0.736 (+/-0.061) for {'m__metric': 'euclidean', 'm__n_neighbors': 50, 'm__weights': 'uniform'}\n",
      "0.743 (+/-0.058) for {'m__metric': 'euclidean', 'm__n_neighbors': 50, 'm__weights': 'distance'}\n",
      "0.728 (+/-0.042) for {'m__metric': 'euclidean', 'm__n_neighbors': 100, 'm__weights': 'uniform'}\n",
      "0.735 (+/-0.06) for {'m__metric': 'euclidean', 'm__n_neighbors': 100, 'm__weights': 'distance'}\n",
      "0.78 (+/-0.04) for {'m__metric': 'manhattan', 'm__n_neighbors': 5, 'm__weights': 'uniform'}\n",
      "0.78 (+/-0.04) for {'m__metric': 'manhattan', 'm__n_neighbors': 5, 'm__weights': 'distance'}\n",
      "0.778 (+/-0.061) for {'m__metric': 'manhattan', 'm__n_neighbors': 50, 'm__weights': 'uniform'}\n",
      "0.789 (+/-0.063) for {'m__metric': 'manhattan', 'm__n_neighbors': 50, 'm__weights': 'distance'}\n",
      "0.768 (+/-0.045) for {'m__metric': 'manhattan', 'm__n_neighbors': 100, 'm__weights': 'uniform'}\n",
      "0.782 (+/-0.044) for {'m__metric': 'manhattan', 'm__n_neighbors': 100, 'm__weights': 'distance'}\n",
      "0.703 (+/-0.059) for {'m__metric': 'chebyshev', 'm__n_neighbors': 5, 'm__weights': 'uniform'}\n",
      "0.704 (+/-0.065) for {'m__metric': 'chebyshev', 'm__n_neighbors': 5, 'm__weights': 'distance'}\n",
      "0.688 (+/-0.052) for {'m__metric': 'chebyshev', 'm__n_neighbors': 50, 'm__weights': 'uniform'}\n",
      "0.69 (+/-0.049) for {'m__metric': 'chebyshev', 'm__n_neighbors': 50, 'm__weights': 'distance'}\n",
      "0.678 (+/-0.067) for {'m__metric': 'chebyshev', 'm__n_neighbors': 100, 'm__weights': 'uniform'}\n",
      "0.684 (+/-0.077) for {'m__metric': 'chebyshev', 'm__n_neighbors': 100, 'm__weights': 'distance'}\n",
      "\u001b[1m\n",
      "Best Parameters: {'m__metric': 'manhattan', 'm__n_neighbors': 50, 'm__weights': 'distance'}\n",
      "\u001b[0m\n",
      "\n",
      "Final Parameters:{'m__metric': 'manhattan', 'm__n_neighbors': 50, 'm__weights': 'distance'} \n",
      "Accuracy: 0.777 / Precision: 0.812 / Recall: 0.679\n",
      "Confusion Matrix\n",
      " [[138  22]\n",
      " [ 45  95]]\n"
     ]
    },
    {
     "data": {
      "image/png": "[encoded data removed]",
      "text/plain": [
       "<Figure size 432x288 with 2 Axes>"
      ]
     },
     "metadata": {
      "needs_background": "light"
     },
     "output_type": "display_data"
    },
    {
     "name": "stdout",
     "output_type": "stream",
     "text": [
      "Kappa score 0.547\n"
     ]
    }
   ],
   "source": [
    "KNN_mode = KNN_pipeline(imp[2])"
   ]
  },
  {
   "cell_type": "code",
   "execution_count": 22,
   "metadata": {},
   "outputs": [
    {
     "name": "stdout",
     "output_type": "stream",
     "text": [
      "Classifier: K-Nearest Neighbour  \n",
      "Imputation Method:  constant\n",
      "0.745 (+/-0.058) for {'m__metric': 'minkowski', 'm__n_neighbors': 5, 'm__weights': 'uniform'}\n",
      "0.746 (+/-0.056) for {'m__metric': 'minkowski', 'm__n_neighbors': 5, 'm__weights': 'distance'}\n",
      "0.713 (+/-0.06) for {'m__metric': 'minkowski', 'm__n_neighbors': 50, 'm__weights': 'uniform'}\n",
      "0.729 (+/-0.044) for {'m__metric': 'minkowski', 'm__n_neighbors': 50, 'm__weights': 'distance'}\n",
      "0.689 (+/-0.085) for {'m__metric': 'minkowski', 'm__n_neighbors': 100, 'm__weights': 'uniform'}\n",
      "0.701 (+/-0.073) for {'m__metric': 'minkowski', 'm__n_neighbors': 100, 'm__weights': 'distance'}\n",
      "0.745 (+/-0.058) for {'m__metric': 'euclidean', 'm__n_neighbors': 5, 'm__weights': 'uniform'}\n",
      "0.746 (+/-0.056) for {'m__metric': 'euclidean', 'm__n_neighbors': 5, 'm__weights': 'distance'}\n",
      "0.713 (+/-0.06) for {'m__metric': 'euclidean', 'm__n_neighbors': 50, 'm__weights': 'uniform'}\n",
      "0.729 (+/-0.044) for {'m__metric': 'euclidean', 'm__n_neighbors': 50, 'm__weights': 'distance'}\n",
      "0.689 (+/-0.085) for {'m__metric': 'euclidean', 'm__n_neighbors': 100, 'm__weights': 'uniform'}\n",
      "0.701 (+/-0.073) for {'m__metric': 'euclidean', 'm__n_neighbors': 100, 'm__weights': 'distance'}\n",
      "0.782 (+/-0.062) for {'m__metric': 'manhattan', 'm__n_neighbors': 5, 'm__weights': 'uniform'}\n",
      "0.782 (+/-0.063) for {'m__metric': 'manhattan', 'm__n_neighbors': 5, 'm__weights': 'distance'}\n",
      "0.778 (+/-0.061) for {'m__metric': 'manhattan', 'm__n_neighbors': 50, 'm__weights': 'uniform'}\n",
      "0.786 (+/-0.048) for {'m__metric': 'manhattan', 'm__n_neighbors': 50, 'm__weights': 'distance'}\n",
      "0.751 (+/-0.06) for {'m__metric': 'manhattan', 'm__n_neighbors': 100, 'm__weights': 'uniform'}\n",
      "0.759 (+/-0.053) for {'m__metric': 'manhattan', 'm__n_neighbors': 100, 'm__weights': 'distance'}\n",
      "0.674 (+/-0.095) for {'m__metric': 'chebyshev', 'm__n_neighbors': 5, 'm__weights': 'uniform'}\n",
      "0.678 (+/-0.093) for {'m__metric': 'chebyshev', 'm__n_neighbors': 5, 'm__weights': 'distance'}\n",
      "0.619 (+/-0.057) for {'m__metric': 'chebyshev', 'm__n_neighbors': 50, 'm__weights': 'uniform'}\n",
      "0.628 (+/-0.049) for {'m__metric': 'chebyshev', 'm__n_neighbors': 50, 'm__weights': 'distance'}\n",
      "0.606 (+/-0.067) for {'m__metric': 'chebyshev', 'm__n_neighbors': 100, 'm__weights': 'uniform'}\n",
      "0.605 (+/-0.078) for {'m__metric': 'chebyshev', 'm__n_neighbors': 100, 'm__weights': 'distance'}\n",
      "\u001b[1m\n",
      "Best Parameters: {'m__metric': 'manhattan', 'm__n_neighbors': 50, 'm__weights': 'distance'}\n",
      "\u001b[0m\n",
      "\n",
      "Final Parameters:{'m__metric': 'manhattan', 'm__n_neighbors': 50, 'm__weights': 'distance'} \n",
      "Accuracy: 0.747 / Precision: 0.732 / Recall: 0.721\n",
      "Confusion Matrix\n",
      " [[123  37]\n",
      " [ 39 101]]\n"
     ]
    },
    {
     "data": {
      "image/png": "[encoded data removed]",
      "text/plain": [
       "<Figure size 432x288 with 2 Axes>"
      ]
     },
     "metadata": {
      "needs_background": "light"
     },
     "output_type": "display_data"
    },
    {
     "name": "stdout",
     "output_type": "stream",
     "text": [
      "Kappa score 0.491\n"
     ]
    }
   ],
   "source": [
    "KNN_zero = KNN_pipeline(imp[3])"
   ]
  },
  {
   "cell_type": "code",
   "execution_count": 23,
   "metadata": {},
   "outputs": [],
   "source": [
    "#Imports the hold out test set\n",
    "P2_test_data = pd.read_csv('CE802_P2_Test.csv')\n",
    "#Creates a copy of the test data to store results in\n",
    "P2_test_data_copy = P2_test_data.copy()"
   ]
  },
  {
   "cell_type": "code",
   "execution_count": 24,
   "metadata": {},
   "outputs": [],
   "source": [
    "#Function that applies the final model to \n",
    "def Final_model(hold_out_test):\n",
    "    #Selects the mode as the imputer\n",
    "    imputer = SimpleImputer(missing_values=np.nan, strategy='most_frequent')\n",
    "    scaler = StandardScaler()\n",
    "    #Selects SVC as the classifier, specifiying optimal parameters from the train/test stage\n",
    "    model = svm.SVC(kernel = 'rbf', C= 100)\n",
    "    #Pipeline created to apply imputer, scaler and model\n",
    "    pipeline = Pipeline(steps=[('i', imputer), ('s', scaler), ('m', model)])\n",
    "    print(pipeline)\n",
    "    #Fits the training values to the pipeline\n",
    "    pipeline = pipeline.fit(X_train, Y_train.values.ravel())\n",
    "    #Produces the predictions on the hold out test data\n",
    "    y_pred_test = pipeline.predict(hold_out_test)\n",
    "    return y_pred_test"
   ]
  },
  {
   "cell_type": "code",
   "execution_count": 25,
   "metadata": {},
   "outputs": [
    {
     "name": "stdout",
     "output_type": "stream",
     "text": [
      "Pipeline(steps=[('i', SimpleImputer(strategy='most_frequent')),\n",
      "                ('s', StandardScaler()), ('m', SVC(C=100))])\n"
     ]
    }
   ],
   "source": [
    "#Removes the empty class column from the dataset\n",
    "P2_test_data = P2_test_data.iloc[:, 0:15]\n",
    "#Runs the final model function with the hold out test data\n",
    "y_pred_test = Final_model(P2_test_data)\n",
    "#Applies the predictions to the empty class column of the copied dataset\n",
    "P2_test_data_copy.loc[:, 'Class'] = y_pred_test"
   ]
  },
  {
   "cell_type": "code",
   "execution_count": 26,
   "metadata": {},
   "outputs": [
    {
     "data": {
      "text/html": [
       "<div>\n",
       "<style scoped>\n",
       "    .dataframe tbody tr th:only-of-type {\n",
       "        vertical-align: middle;\n",
       "    }\n",
       "\n",
       "    .dataframe tbody tr th {\n",
       "        vertical-align: top;\n",
       "    }\n",
       "\n",
       "    .dataframe thead th {\n",
       "        text-align: right;\n",
       "    }\n",
       "</style>\n",
       "<table border=\"1\" class=\"dataframe\">\n",
       "  <thead>\n",
       "    <tr style=\"text-align: right;\">\n",
       "      <th></th>\n",
       "      <th>F1</th>\n",
       "      <th>F2</th>\n",
       "      <th>F3</th>\n",
       "      <th>F4</th>\n",
       "      <th>F5</th>\n",
       "      <th>F6</th>\n",
       "      <th>F7</th>\n",
       "      <th>F8</th>\n",
       "      <th>F9</th>\n",
       "      <th>F10</th>\n",
       "      <th>F11</th>\n",
       "      <th>F12</th>\n",
       "      <th>F13</th>\n",
       "      <th>F14</th>\n",
       "      <th>F15</th>\n",
       "      <th>Class</th>\n",
       "    </tr>\n",
       "  </thead>\n",
       "  <tbody>\n",
       "    <tr>\n",
       "      <th>0</th>\n",
       "      <td>-8.67</td>\n",
       "      <td>-25.56</td>\n",
       "      <td>21</td>\n",
       "      <td>13.14</td>\n",
       "      <td>-7.45</td>\n",
       "      <td>5.55</td>\n",
       "      <td>10.29</td>\n",
       "      <td>-30.98</td>\n",
       "      <td>-476.72</td>\n",
       "      <td>2</td>\n",
       "      <td>-1.17</td>\n",
       "      <td>61.66</td>\n",
       "      <td>0.23</td>\n",
       "      <td>3.76</td>\n",
       "      <td>7.60</td>\n",
       "      <td>True</td>\n",
       "    </tr>\n",
       "    <tr>\n",
       "      <th>1</th>\n",
       "      <td>-8.31</td>\n",
       "      <td>-29.19</td>\n",
       "      <td>10</td>\n",
       "      <td>12.16</td>\n",
       "      <td>-7.66</td>\n",
       "      <td>5.22</td>\n",
       "      <td>10.22</td>\n",
       "      <td>-30.98</td>\n",
       "      <td>-422.72</td>\n",
       "      <td>2</td>\n",
       "      <td>-0.96</td>\n",
       "      <td>79.66</td>\n",
       "      <td>0.02</td>\n",
       "      <td>1.22</td>\n",
       "      <td>6.72</td>\n",
       "      <td>True</td>\n",
       "    </tr>\n",
       "    <tr>\n",
       "      <th>2</th>\n",
       "      <td>-0.84</td>\n",
       "      <td>-25.29</td>\n",
       "      <td>110</td>\n",
       "      <td>12.34</td>\n",
       "      <td>-3.72</td>\n",
       "      <td>20.70</td>\n",
       "      <td>17.32</td>\n",
       "      <td>-76.98</td>\n",
       "      <td>-778.72</td>\n",
       "      <td>20</td>\n",
       "      <td>11.10</td>\n",
       "      <td>-20.34</td>\n",
       "      <td>5.75</td>\n",
       "      <td>-1.97</td>\n",
       "      <td>NaN</td>\n",
       "      <td>False</td>\n",
       "    </tr>\n",
       "    <tr>\n",
       "      <th>3</th>\n",
       "      <td>0.90</td>\n",
       "      <td>-14.94</td>\n",
       "      <td>120</td>\n",
       "      <td>9.44</td>\n",
       "      <td>-3.44</td>\n",
       "      <td>28.05</td>\n",
       "      <td>15.52</td>\n",
       "      <td>-56.98</td>\n",
       "      <td>-858.72</td>\n",
       "      <td>20</td>\n",
       "      <td>6.33</td>\n",
       "      <td>229.66</td>\n",
       "      <td>8.05</td>\n",
       "      <td>-1.77</td>\n",
       "      <td>NaN</td>\n",
       "      <td>False</td>\n",
       "    </tr>\n",
       "    <tr>\n",
       "      <th>4</th>\n",
       "      <td>-0.33</td>\n",
       "      <td>-9.60</td>\n",
       "      <td>345</td>\n",
       "      <td>14.26</td>\n",
       "      <td>-3.32</td>\n",
       "      <td>34.80</td>\n",
       "      <td>15.07</td>\n",
       "      <td>-36.98</td>\n",
       "      <td>-458.72</td>\n",
       "      <td>20</td>\n",
       "      <td>12.18</td>\n",
       "      <td>129.66</td>\n",
       "      <td>9.80</td>\n",
       "      <td>-2.17</td>\n",
       "      <td>6.60</td>\n",
       "      <td>True</td>\n",
       "    </tr>\n",
       "    <tr>\n",
       "      <th>5</th>\n",
       "      <td>-7.32</td>\n",
       "      <td>-27.81</td>\n",
       "      <td>20</td>\n",
       "      <td>11.50</td>\n",
       "      <td>-7.61</td>\n",
       "      <td>4.38</td>\n",
       "      <td>10.27</td>\n",
       "      <td>-34.98</td>\n",
       "      <td>-448.72</td>\n",
       "      <td>2</td>\n",
       "      <td>-0.57</td>\n",
       "      <td>95.66</td>\n",
       "      <td>0.96</td>\n",
       "      <td>2.07</td>\n",
       "      <td>7.03</td>\n",
       "      <td>True</td>\n",
       "    </tr>\n",
       "    <tr>\n",
       "      <th>6</th>\n",
       "      <td>-2.40</td>\n",
       "      <td>-15.69</td>\n",
       "      <td>295</td>\n",
       "      <td>14.42</td>\n",
       "      <td>-3.56</td>\n",
       "      <td>16.65</td>\n",
       "      <td>15.52</td>\n",
       "      <td>-56.98</td>\n",
       "      <td>-608.72</td>\n",
       "      <td>20</td>\n",
       "      <td>7.80</td>\n",
       "      <td>189.66</td>\n",
       "      <td>9.25</td>\n",
       "      <td>-0.83</td>\n",
       "      <td>5.43</td>\n",
       "      <td>False</td>\n",
       "    </tr>\n",
       "    <tr>\n",
       "      <th>7</th>\n",
       "      <td>-10.77</td>\n",
       "      <td>-24.87</td>\n",
       "      <td>3</td>\n",
       "      <td>11.90</td>\n",
       "      <td>-7.19</td>\n",
       "      <td>0.99</td>\n",
       "      <td>10.38</td>\n",
       "      <td>-34.98</td>\n",
       "      <td>-442.72</td>\n",
       "      <td>2</td>\n",
       "      <td>-2.67</td>\n",
       "      <td>65.66</td>\n",
       "      <td>0.53</td>\n",
       "      <td>1.03</td>\n",
       "      <td>NaN</td>\n",
       "      <td>True</td>\n",
       "    </tr>\n",
       "    <tr>\n",
       "      <th>8</th>\n",
       "      <td>3.66</td>\n",
       "      <td>-12.96</td>\n",
       "      <td>325</td>\n",
       "      <td>13.28</td>\n",
       "      <td>-2.80</td>\n",
       "      <td>31.65</td>\n",
       "      <td>15.37</td>\n",
       "      <td>-36.98</td>\n",
       "      <td>-458.72</td>\n",
       "      <td>20</td>\n",
       "      <td>11.07</td>\n",
       "      <td>129.66</td>\n",
       "      <td>7.85</td>\n",
       "      <td>-3.28</td>\n",
       "      <td>6.63</td>\n",
       "      <td>False</td>\n",
       "    </tr>\n",
       "    <tr>\n",
       "      <th>9</th>\n",
       "      <td>-2.16</td>\n",
       "      <td>-33.81</td>\n",
       "      <td>210</td>\n",
       "      <td>8.48</td>\n",
       "      <td>-7.59</td>\n",
       "      <td>38.40</td>\n",
       "      <td>15.02</td>\n",
       "      <td>-56.98</td>\n",
       "      <td>-788.72</td>\n",
       "      <td>20</td>\n",
       "      <td>4.47</td>\n",
       "      <td>-30.34</td>\n",
       "      <td>5.35</td>\n",
       "      <td>-0.66</td>\n",
       "      <td>NaN</td>\n",
       "      <td>False</td>\n",
       "    </tr>\n",
       "  </tbody>\n",
       "</table>\n",
       "</div>"
      ],
      "text/plain": [
       "      F1     F2   F3     F4    F5     F6     F7     F8      F9  F10    F11  \\\n",
       "0  -8.67 -25.56   21  13.14 -7.45   5.55  10.29 -30.98 -476.72    2  -1.17   \n",
       "1  -8.31 -29.19   10  12.16 -7.66   5.22  10.22 -30.98 -422.72    2  -0.96   \n",
       "2  -0.84 -25.29  110  12.34 -3.72  20.70  17.32 -76.98 -778.72   20  11.10   \n",
       "3   0.90 -14.94  120   9.44 -3.44  28.05  15.52 -56.98 -858.72   20   6.33   \n",
       "4  -0.33  -9.60  345  14.26 -3.32  34.80  15.07 -36.98 -458.72   20  12.18   \n",
       "5  -7.32 -27.81   20  11.50 -7.61   4.38  10.27 -34.98 -448.72    2  -0.57   \n",
       "6  -2.40 -15.69  295  14.42 -3.56  16.65  15.52 -56.98 -608.72   20   7.80   \n",
       "7 -10.77 -24.87    3  11.90 -7.19   0.99  10.38 -34.98 -442.72    2  -2.67   \n",
       "8   3.66 -12.96  325  13.28 -2.80  31.65  15.37 -36.98 -458.72   20  11.07   \n",
       "9  -2.16 -33.81  210   8.48 -7.59  38.40  15.02 -56.98 -788.72   20   4.47   \n",
       "\n",
       "      F12   F13   F14   F15  Class  \n",
       "0   61.66  0.23  3.76  7.60   True  \n",
       "1   79.66  0.02  1.22  6.72   True  \n",
       "2  -20.34  5.75 -1.97   NaN  False  \n",
       "3  229.66  8.05 -1.77   NaN  False  \n",
       "4  129.66  9.80 -2.17  6.60   True  \n",
       "5   95.66  0.96  2.07  7.03   True  \n",
       "6  189.66  9.25 -0.83  5.43  False  \n",
       "7   65.66  0.53  1.03   NaN   True  \n",
       "8  129.66  7.85 -3.28  6.63  False  \n",
       "9  -30.34  5.35 -0.66   NaN  False  "
      ]
     },
     "execution_count": 26,
     "metadata": {},
     "output_type": "execute_result"
    }
   ],
   "source": [
    "#Checks the test copy to ensure predictions have been applied\n",
    "P2_test_data_copy.head(10)"
   ]
  },
  {
   "cell_type": "code",
   "execution_count": 27,
   "metadata": {},
   "outputs": [],
   "source": [
    "#Copies the final results to the hold out test CSV\n",
    "P2_test_data_copy.to_csv('CE802_P2_Test.csv', index = False)"
   ]
  },
  {
   "cell_type": "code",
   "execution_count": null,
   "metadata": {},
   "outputs": [],
   "source": []
  }
 ],
 "metadata": {
  "kernelspec": {
   "display_name": "Python 3",
   "language": "python",
   "name": "python3"
  },
  "language_info": {
   "codemirror_mode": {
    "name": "ipython",
    "version": 3
   },
   "file_extension": ".py",
   "mimetype": "text/x-python",
   "name": "python",
   "nbconvert_exporter": "python",
   "pygments_lexer": "ipython3",
   "version": "3.7.4"
  }
 },
 "nbformat": 4,
 "nbformat_minor": 4
}
